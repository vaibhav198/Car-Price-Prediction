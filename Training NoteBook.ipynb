{
 "cells": [
  {
   "cell_type": "code",
   "execution_count": 1,
   "metadata": {},
   "outputs": [],
   "source": [
    "import numpy as np"
   ]
  },
  {
   "cell_type": "code",
   "execution_count": 2,
   "metadata": {},
   "outputs": [],
   "source": [
    "import pandas as pd"
   ]
  },
  {
   "cell_type": "code",
   "execution_count": 4,
   "metadata": {},
   "outputs": [],
   "source": [
    "train_data=pd.read_csv('train.csv')\n",
    "test_data=pd.read_excel('test.xlsx')\n",
    "sample_data=pd.read_csv('sample.csv')"
   ]
  },
  {
   "cell_type": "code",
   "execution_count": 5,
   "metadata": {},
   "outputs": [
    {
     "data": {
      "text/html": [
       "<div>\n",
       "<style scoped>\n",
       "    .dataframe tbody tr th:only-of-type {\n",
       "        vertical-align: middle;\n",
       "    }\n",
       "\n",
       "    .dataframe tbody tr th {\n",
       "        vertical-align: top;\n",
       "    }\n",
       "\n",
       "    .dataframe thead th {\n",
       "        text-align: right;\n",
       "    }\n",
       "</style>\n",
       "<table border=\"1\" class=\"dataframe\">\n",
       "  <thead>\n",
       "    <tr style=\"text-align: right;\">\n",
       "      <th></th>\n",
       "      <th>id</th>\n",
       "      <th>fuel</th>\n",
       "      <th>ABS-compatibility</th>\n",
       "      <th>parking-sensor</th>\n",
       "      <th>symboling</th>\n",
       "      <th>normalized-losses</th>\n",
       "      <th>num-of-doors</th>\n",
       "      <th>body-style</th>\n",
       "      <th>manufacturer</th>\n",
       "      <th>condition</th>\n",
       "      <th>...</th>\n",
       "      <th>engine-size</th>\n",
       "      <th>battery-type</th>\n",
       "      <th>bore</th>\n",
       "      <th>stroke</th>\n",
       "      <th>compression-ratio</th>\n",
       "      <th>horsepower</th>\n",
       "      <th>peak-rpm</th>\n",
       "      <th>city-mpg</th>\n",
       "      <th>highway-mpg</th>\n",
       "      <th>price</th>\n",
       "    </tr>\n",
       "  </thead>\n",
       "  <tbody>\n",
       "    <tr>\n",
       "      <th>0</th>\n",
       "      <td>0</td>\n",
       "      <td>petrol</td>\n",
       "      <td>ABS not supported</td>\n",
       "      <td>not installed</td>\n",
       "      <td>3</td>\n",
       "      <td>142</td>\n",
       "      <td>two</td>\n",
       "      <td>convertible</td>\n",
       "      <td>mercedes-benz</td>\n",
       "      <td>new</td>\n",
       "      <td>...</td>\n",
       "      <td>234</td>\n",
       "      <td>sli</td>\n",
       "      <td>3.46</td>\n",
       "      <td>3.1</td>\n",
       "      <td>8.3</td>\n",
       "      <td>155</td>\n",
       "      <td>4750</td>\n",
       "      <td>16</td>\n",
       "      <td>18</td>\n",
       "      <td>35056</td>\n",
       "    </tr>\n",
       "    <tr>\n",
       "      <th>1</th>\n",
       "      <td>1</td>\n",
       "      <td>petrol</td>\n",
       "      <td>ABS not supported</td>\n",
       "      <td>installed</td>\n",
       "      <td>-1</td>\n",
       "      <td>110</td>\n",
       "      <td>four</td>\n",
       "      <td>wagon</td>\n",
       "      <td>dodge</td>\n",
       "      <td>new</td>\n",
       "      <td>...</td>\n",
       "      <td>122</td>\n",
       "      <td>li-ion</td>\n",
       "      <td>3.34</td>\n",
       "      <td>3.46</td>\n",
       "      <td>8.5</td>\n",
       "      <td>88</td>\n",
       "      <td>5000</td>\n",
       "      <td>24</td>\n",
       "      <td>30</td>\n",
       "      <td>8921</td>\n",
       "    </tr>\n",
       "    <tr>\n",
       "      <th>2</th>\n",
       "      <td>2</td>\n",
       "      <td>petrol</td>\n",
       "      <td>ABS supported</td>\n",
       "      <td>not installed</td>\n",
       "      <td>-1</td>\n",
       "      <td>95</td>\n",
       "      <td>four</td>\n",
       "      <td>sedan</td>\n",
       "      <td>volvo</td>\n",
       "      <td>new</td>\n",
       "      <td>...</td>\n",
       "      <td>141</td>\n",
       "      <td>sli</td>\n",
       "      <td>3.78</td>\n",
       "      <td>3.15</td>\n",
       "      <td>9.5</td>\n",
       "      <td>114</td>\n",
       "      <td>5400</td>\n",
       "      <td>19</td>\n",
       "      <td>25</td>\n",
       "      <td>22625</td>\n",
       "    </tr>\n",
       "    <tr>\n",
       "      <th>3</th>\n",
       "      <td>3</td>\n",
       "      <td>petrol</td>\n",
       "      <td>ABS supported</td>\n",
       "      <td>installed</td>\n",
       "      <td>1</td>\n",
       "      <td>158</td>\n",
       "      <td>four</td>\n",
       "      <td>sedan</td>\n",
       "      <td>audi</td>\n",
       "      <td>new</td>\n",
       "      <td>...</td>\n",
       "      <td>131</td>\n",
       "      <td>sli</td>\n",
       "      <td>3.13</td>\n",
       "      <td>3.4</td>\n",
       "      <td>8.3</td>\n",
       "      <td>140</td>\n",
       "      <td>5500</td>\n",
       "      <td>17</td>\n",
       "      <td>20</td>\n",
       "      <td>23875</td>\n",
       "    </tr>\n",
       "    <tr>\n",
       "      <th>4</th>\n",
       "      <td>4</td>\n",
       "      <td>petrol</td>\n",
       "      <td>ABS not supported</td>\n",
       "      <td>installed</td>\n",
       "      <td>0</td>\n",
       "      <td>108</td>\n",
       "      <td>four</td>\n",
       "      <td>sedan</td>\n",
       "      <td>nissan</td>\n",
       "      <td>new</td>\n",
       "      <td>...</td>\n",
       "      <td>181</td>\n",
       "      <td>sli</td>\n",
       "      <td>3.43</td>\n",
       "      <td>3.27</td>\n",
       "      <td>9.0</td>\n",
       "      <td>152</td>\n",
       "      <td>5200</td>\n",
       "      <td>19</td>\n",
       "      <td>25</td>\n",
       "      <td>13499</td>\n",
       "    </tr>\n",
       "  </tbody>\n",
       "</table>\n",
       "<p>5 rows × 27 columns</p>\n",
       "</div>"
      ],
      "text/plain": [
       "   id    fuel  ABS-compatibility parking-sensor  symboling normalized-losses  \\\n",
       "0   0  petrol  ABS not supported  not installed          3               142   \n",
       "1   1  petrol  ABS not supported      installed         -1               110   \n",
       "2   2  petrol      ABS supported  not installed         -1                95   \n",
       "3   3  petrol      ABS supported      installed          1               158   \n",
       "4   4  petrol  ABS not supported      installed          0               108   \n",
       "\n",
       "  num-of-doors   body-style   manufacturer condition  ...  engine-size  \\\n",
       "0          two  convertible  mercedes-benz       new  ...          234   \n",
       "1         four        wagon          dodge       new  ...          122   \n",
       "2         four        sedan          volvo       new  ...          141   \n",
       "3         four        sedan           audi       new  ...          131   \n",
       "4         four        sedan         nissan       new  ...          181   \n",
       "\n",
       "   battery-type  bore  stroke  compression-ratio horsepower peak-rpm  \\\n",
       "0           sli  3.46     3.1                8.3        155     4750   \n",
       "1        li-ion  3.34    3.46                8.5         88     5000   \n",
       "2           sli  3.78    3.15                9.5        114     5400   \n",
       "3           sli  3.13     3.4                8.3        140     5500   \n",
       "4           sli  3.43    3.27                9.0        152     5200   \n",
       "\n",
       "   city-mpg highway-mpg  price  \n",
       "0        16          18  35056  \n",
       "1        24          30   8921  \n",
       "2        19          25  22625  \n",
       "3        17          20  23875  \n",
       "4        19          25  13499  \n",
       "\n",
       "[5 rows x 27 columns]"
      ]
     },
     "execution_count": 5,
     "metadata": {},
     "output_type": "execute_result"
    }
   ],
   "source": [
    "train_data.head()"
   ]
  },
  {
   "cell_type": "code",
   "execution_count": 6,
   "metadata": {},
   "outputs": [
    {
     "data": {
      "text/plain": [
       "(170, 27)"
      ]
     },
     "execution_count": 6,
     "metadata": {},
     "output_type": "execute_result"
    }
   ],
   "source": [
    "train_data.shape"
   ]
  },
  {
   "cell_type": "code",
   "execution_count": 7,
   "metadata": {},
   "outputs": [
    {
     "data": {
      "text/plain": [
       "(21, 26)"
      ]
     },
     "execution_count": 7,
     "metadata": {},
     "output_type": "execute_result"
    }
   ],
   "source": [
    "test_data.shape"
   ]
  },
  {
   "cell_type": "code",
   "execution_count": 8,
   "metadata": {},
   "outputs": [
    {
     "data": {
      "text/html": [
       "<div>\n",
       "<style scoped>\n",
       "    .dataframe tbody tr th:only-of-type {\n",
       "        vertical-align: middle;\n",
       "    }\n",
       "\n",
       "    .dataframe tbody tr th {\n",
       "        vertical-align: top;\n",
       "    }\n",
       "\n",
       "    .dataframe thead th {\n",
       "        text-align: right;\n",
       "    }\n",
       "</style>\n",
       "<table border=\"1\" class=\"dataframe\">\n",
       "  <thead>\n",
       "    <tr style=\"text-align: right;\">\n",
       "      <th></th>\n",
       "      <th>id</th>\n",
       "      <th>fuel</th>\n",
       "      <th>ABS-compatibility</th>\n",
       "      <th>parking-sensor</th>\n",
       "      <th>symboling</th>\n",
       "      <th>normalized-losses</th>\n",
       "      <th>num-of-doors</th>\n",
       "      <th>body-style</th>\n",
       "      <th>manufacturer</th>\n",
       "      <th>condition</th>\n",
       "      <th>...</th>\n",
       "      <th>num-of-persons</th>\n",
       "      <th>engine-size</th>\n",
       "      <th>battery-type</th>\n",
       "      <th>bore</th>\n",
       "      <th>stroke</th>\n",
       "      <th>compression-ratio</th>\n",
       "      <th>horsepower</th>\n",
       "      <th>peak-rpm</th>\n",
       "      <th>city-mpg</th>\n",
       "      <th>highway-mpg</th>\n",
       "    </tr>\n",
       "  </thead>\n",
       "  <tbody>\n",
       "    <tr>\n",
       "      <th>0</th>\n",
       "      <td>0</td>\n",
       "      <td>petrol</td>\n",
       "      <td>ABS not supported</td>\n",
       "      <td>installed</td>\n",
       "      <td>1</td>\n",
       "      <td>119</td>\n",
       "      <td>two</td>\n",
       "      <td>hatchback</td>\n",
       "      <td>plymouth</td>\n",
       "      <td>new</td>\n",
       "      <td>...</td>\n",
       "      <td>four</td>\n",
       "      <td>90</td>\n",
       "      <td>li-ion</td>\n",
       "      <td>2.97</td>\n",
       "      <td>3.23</td>\n",
       "      <td>9.4</td>\n",
       "      <td>68</td>\n",
       "      <td>5500</td>\n",
       "      <td>37</td>\n",
       "      <td>41</td>\n",
       "    </tr>\n",
       "    <tr>\n",
       "      <th>1</th>\n",
       "      <td>1</td>\n",
       "      <td>petrol</td>\n",
       "      <td>ABS supported</td>\n",
       "      <td>not installed</td>\n",
       "      <td>-2</td>\n",
       "      <td>103</td>\n",
       "      <td>four</td>\n",
       "      <td>sedan</td>\n",
       "      <td>volvo</td>\n",
       "      <td>new</td>\n",
       "      <td>...</td>\n",
       "      <td>four</td>\n",
       "      <td>130</td>\n",
       "      <td>sli</td>\n",
       "      <td>3.62</td>\n",
       "      <td>3.15</td>\n",
       "      <td>7.5</td>\n",
       "      <td>162</td>\n",
       "      <td>5100</td>\n",
       "      <td>17</td>\n",
       "      <td>22</td>\n",
       "    </tr>\n",
       "    <tr>\n",
       "      <th>2</th>\n",
       "      <td>2</td>\n",
       "      <td>petrol</td>\n",
       "      <td>ABS not supported</td>\n",
       "      <td>installed</td>\n",
       "      <td>1</td>\n",
       "      <td>113</td>\n",
       "      <td>four</td>\n",
       "      <td>sedan</td>\n",
       "      <td>mazda</td>\n",
       "      <td>new</td>\n",
       "      <td>...</td>\n",
       "      <td>four</td>\n",
       "      <td>91</td>\n",
       "      <td>li-ion</td>\n",
       "      <td>3.08</td>\n",
       "      <td>3.15</td>\n",
       "      <td>9.0</td>\n",
       "      <td>68</td>\n",
       "      <td>5000</td>\n",
       "      <td>31</td>\n",
       "      <td>38</td>\n",
       "    </tr>\n",
       "    <tr>\n",
       "      <th>3</th>\n",
       "      <td>3</td>\n",
       "      <td>petrol</td>\n",
       "      <td>ABS not supported</td>\n",
       "      <td>installed</td>\n",
       "      <td>0</td>\n",
       "      <td>91</td>\n",
       "      <td>four</td>\n",
       "      <td>hatchback</td>\n",
       "      <td>toyota</td>\n",
       "      <td>new</td>\n",
       "      <td>...</td>\n",
       "      <td>four</td>\n",
       "      <td>98</td>\n",
       "      <td>li-ion</td>\n",
       "      <td>3.19</td>\n",
       "      <td>3.03</td>\n",
       "      <td>9.0</td>\n",
       "      <td>70</td>\n",
       "      <td>4800</td>\n",
       "      <td>28</td>\n",
       "      <td>34</td>\n",
       "    </tr>\n",
       "    <tr>\n",
       "      <th>4</th>\n",
       "      <td>4</td>\n",
       "      <td>petrol</td>\n",
       "      <td>ABS supported</td>\n",
       "      <td>not installed</td>\n",
       "      <td>-1</td>\n",
       "      <td>95</td>\n",
       "      <td>four</td>\n",
       "      <td>sedan</td>\n",
       "      <td>volvo</td>\n",
       "      <td>new</td>\n",
       "      <td>...</td>\n",
       "      <td>four</td>\n",
       "      <td>141</td>\n",
       "      <td>sli</td>\n",
       "      <td>3.78</td>\n",
       "      <td>3.15</td>\n",
       "      <td>8.7</td>\n",
       "      <td>160</td>\n",
       "      <td>5300</td>\n",
       "      <td>19</td>\n",
       "      <td>25</td>\n",
       "    </tr>\n",
       "  </tbody>\n",
       "</table>\n",
       "<p>5 rows × 26 columns</p>\n",
       "</div>"
      ],
      "text/plain": [
       "   id    fuel  ABS-compatibility parking-sensor  symboling normalized-losses  \\\n",
       "0   0  petrol  ABS not supported      installed          1               119   \n",
       "1   1  petrol      ABS supported  not installed         -2               103   \n",
       "2   2  petrol  ABS not supported      installed          1               113   \n",
       "3   3  petrol  ABS not supported      installed          0                91   \n",
       "4   4  petrol      ABS supported  not installed         -1                95   \n",
       "\n",
       "  num-of-doors body-style manufacturer condition  ...  num-of-persons  \\\n",
       "0          two  hatchback     plymouth       new  ...            four   \n",
       "1         four      sedan        volvo       new  ...            four   \n",
       "2         four      sedan        mazda       new  ...            four   \n",
       "3         four  hatchback       toyota       new  ...            four   \n",
       "4         four      sedan        volvo       new  ...            four   \n",
       "\n",
       "   engine-size  battery-type  bore  stroke compression-ratio horsepower  \\\n",
       "0           90        li-ion  2.97    3.23               9.4         68   \n",
       "1          130           sli  3.62    3.15               7.5        162   \n",
       "2           91        li-ion  3.08    3.15               9.0         68   \n",
       "3           98        li-ion  3.19    3.03               9.0         70   \n",
       "4          141           sli  3.78    3.15               8.7        160   \n",
       "\n",
       "   peak-rpm city-mpg highway-mpg  \n",
       "0      5500       37          41  \n",
       "1      5100       17          22  \n",
       "2      5000       31          38  \n",
       "3      4800       28          34  \n",
       "4      5300       19          25  \n",
       "\n",
       "[5 rows x 26 columns]"
      ]
     },
     "execution_count": 8,
     "metadata": {},
     "output_type": "execute_result"
    }
   ],
   "source": [
    "test_data.head()"
   ]
  },
  {
   "cell_type": "code",
   "execution_count": 9,
   "metadata": {},
   "outputs": [
    {
     "data": {
      "text/html": [
       "<div>\n",
       "<style scoped>\n",
       "    .dataframe tbody tr th:only-of-type {\n",
       "        vertical-align: middle;\n",
       "    }\n",
       "\n",
       "    .dataframe tbody tr th {\n",
       "        vertical-align: top;\n",
       "    }\n",
       "\n",
       "    .dataframe thead th {\n",
       "        text-align: right;\n",
       "    }\n",
       "</style>\n",
       "<table border=\"1\" class=\"dataframe\">\n",
       "  <thead>\n",
       "    <tr style=\"text-align: right;\">\n",
       "      <th></th>\n",
       "      <th>id</th>\n",
       "      <th>price</th>\n",
       "      <th>price-category</th>\n",
       "    </tr>\n",
       "  </thead>\n",
       "  <tbody>\n",
       "    <tr>\n",
       "      <th>0</th>\n",
       "      <td>0</td>\n",
       "      <td>5572</td>\n",
       "      <td>Low</td>\n",
       "    </tr>\n",
       "    <tr>\n",
       "      <th>1</th>\n",
       "      <td>1</td>\n",
       "      <td>18420</td>\n",
       "      <td>High</td>\n",
       "    </tr>\n",
       "    <tr>\n",
       "      <th>2</th>\n",
       "      <td>2</td>\n",
       "      <td>7395</td>\n",
       "      <td>Low</td>\n",
       "    </tr>\n",
       "    <tr>\n",
       "      <th>3</th>\n",
       "      <td>3</td>\n",
       "      <td>8358</td>\n",
       "      <td>Medium</td>\n",
       "    </tr>\n",
       "    <tr>\n",
       "      <th>4</th>\n",
       "      <td>4</td>\n",
       "      <td>19045</td>\n",
       "      <td>High</td>\n",
       "    </tr>\n",
       "  </tbody>\n",
       "</table>\n",
       "</div>"
      ],
      "text/plain": [
       "   id  price price-category\n",
       "0   0   5572            Low\n",
       "1   1  18420           High\n",
       "2   2   7395            Low\n",
       "3   3   8358         Medium\n",
       "4   4  19045           High"
      ]
     },
     "execution_count": 9,
     "metadata": {},
     "output_type": "execute_result"
    }
   ],
   "source": [
    "sample_data.head()"
   ]
  },
  {
   "cell_type": "code",
   "execution_count": 10,
   "metadata": {},
   "outputs": [
    {
     "name": "stdout",
     "output_type": "stream",
     "text": [
      "<class 'pandas.core.frame.DataFrame'>\n",
      "RangeIndex: 170 entries, 0 to 169\n",
      "Data columns (total 27 columns):\n",
      "id                   170 non-null int64\n",
      "fuel                 170 non-null object\n",
      "ABS-compatibility    170 non-null object\n",
      "parking-sensor       170 non-null object\n",
      "symboling            170 non-null int64\n",
      "normalized-losses    170 non-null object\n",
      "num-of-doors         170 non-null object\n",
      "body-style           170 non-null object\n",
      "manufacturer         170 non-null object\n",
      "condition            170 non-null object\n",
      "wheel-base           170 non-null float64\n",
      "length               170 non-null float64\n",
      "width                170 non-null float64\n",
      "height               170 non-null float64\n",
      "car-weight           170 non-null int64\n",
      "engine-type          170 non-null object\n",
      "num-of-persons       170 non-null object\n",
      "engine-size          170 non-null int64\n",
      "battery-type         170 non-null object\n",
      "bore                 170 non-null object\n",
      "stroke               170 non-null object\n",
      "compression-ratio    170 non-null float64\n",
      "horsepower           170 non-null object\n",
      "peak-rpm             170 non-null object\n",
      "city-mpg             170 non-null int64\n",
      "highway-mpg          170 non-null int64\n",
      "price                170 non-null object\n",
      "dtypes: float64(5), int64(6), object(16)\n",
      "memory usage: 35.9+ KB\n"
     ]
    }
   ],
   "source": [
    "train_data.info()"
   ]
  },
  {
   "cell_type": "code",
   "execution_count": 11,
   "metadata": {},
   "outputs": [
    {
     "data": {
      "text/plain": [
       "id                   0\n",
       "fuel                 0\n",
       "ABS-compatibility    0\n",
       "parking-sensor       0\n",
       "symboling            0\n",
       "normalized-losses    0\n",
       "num-of-doors         0\n",
       "body-style           0\n",
       "manufacturer         0\n",
       "condition            0\n",
       "wheel-base           0\n",
       "length               0\n",
       "width                0\n",
       "height               0\n",
       "car-weight           0\n",
       "engine-type          0\n",
       "num-of-persons       0\n",
       "engine-size          0\n",
       "battery-type         0\n",
       "bore                 0\n",
       "stroke               0\n",
       "compression-ratio    0\n",
       "horsepower           0\n",
       "peak-rpm             0\n",
       "city-mpg             0\n",
       "highway-mpg          0\n",
       "price                0\n",
       "dtype: int64"
      ]
     },
     "execution_count": 11,
     "metadata": {},
     "output_type": "execute_result"
    }
   ],
   "source": [
    "train_data.isnull().sum()"
   ]
  },
  {
   "cell_type": "code",
   "execution_count": 12,
   "metadata": {},
   "outputs": [
    {
     "data": {
      "text/plain": [
       "0      35056\n",
       "1       8921\n",
       "2      22625\n",
       "3      23875\n",
       "4      13499\n",
       "5       7499\n",
       "6       9279\n",
       "7      10898\n",
       "8      11248\n",
       "9      18920\n",
       "10     11048\n",
       "11     28248\n",
       "12      8495\n",
       "13     16430\n",
       "14     18150\n",
       "15      7957\n",
       "16      5348\n",
       "17     15998\n",
       "18      9960\n",
       "19      8238\n",
       "20      7957\n",
       "21     17450\n",
       "22      9549\n",
       "23     11259\n",
       "24         ?\n",
       "25     16900\n",
       "26      7895\n",
       "27     14489\n",
       "28      8845\n",
       "29     22470\n",
       "       ...  \n",
       "140     7898\n",
       "141    11694\n",
       "142     5118\n",
       "143     7295\n",
       "144    16515\n",
       "145    30760\n",
       "146     5499\n",
       "147    17075\n",
       "148    21485\n",
       "149    16695\n",
       "150    37028\n",
       "151    16925\n",
       "152     9295\n",
       "153     7295\n",
       "154     6669\n",
       "155     8189\n",
       "156     7609\n",
       "157     7775\n",
       "158    40960\n",
       "159     7463\n",
       "160    20970\n",
       "161    10345\n",
       "162     6989\n",
       "163     9995\n",
       "164    36000\n",
       "165    11850\n",
       "166     7349\n",
       "167     8845\n",
       "168    13499\n",
       "169     9258\n",
       "Name: price, Length: 170, dtype: object"
      ]
     },
     "execution_count": 12,
     "metadata": {},
     "output_type": "execute_result"
    }
   ],
   "source": [
    "train_data.price"
   ]
  },
  {
   "cell_type": "code",
   "execution_count": 13,
   "metadata": {},
   "outputs": [
    {
     "data": {
      "text/plain": [
       "Index(['id', 'fuel', 'ABS-compatibility', 'parking-sensor', 'symboling',\n",
       "       'normalized-losses', 'num-of-doors', 'body-style', 'manufacturer',\n",
       "       'condition', 'wheel-base', 'length', 'width', 'height', 'car-weight',\n",
       "       'engine-type', 'num-of-persons', 'engine-size', 'battery-type', 'bore',\n",
       "       'stroke', 'compression-ratio', 'horsepower', 'peak-rpm', 'city-mpg',\n",
       "       'highway-mpg', 'price'],\n",
       "      dtype='object')"
      ]
     },
     "execution_count": 13,
     "metadata": {},
     "output_type": "execute_result"
    }
   ],
   "source": [
    "train_data.columns"
   ]
  },
  {
   "cell_type": "code",
   "execution_count": 14,
   "metadata": {},
   "outputs": [
    {
     "data": {
      "text/plain": [
       "ABS not supported    141\n",
       "ABS supported         29\n",
       "Name: ABS-compatibility, dtype: int64"
      ]
     },
     "execution_count": 14,
     "metadata": {},
     "output_type": "execute_result"
    }
   ],
   "source": [
    "train_data['ABS-compatibility'].value_counts()"
   ]
  },
  {
   "cell_type": "code",
   "execution_count": 15,
   "metadata": {},
   "outputs": [
    {
     "data": {
      "text/plain": [
       "installed         99\n",
       "not installed     65\n",
       "not compatible     6\n",
       "Name: parking-sensor, dtype: int64"
      ]
     },
     "execution_count": 15,
     "metadata": {},
     "output_type": "execute_result"
    }
   ],
   "source": [
    "train_data['parking-sensor'].value_counts()"
   ]
  },
  {
   "cell_type": "code",
   "execution_count": 16,
   "metadata": {},
   "outputs": [
    {
     "data": {
      "text/plain": [
       "sli        81\n",
       "li-ion     52\n",
       "vrla       14\n",
       "dc         10\n",
       "wetcell     9\n",
       "agm         2\n",
       "msli        1\n",
       "ssli        1\n",
       "Name: battery-type, dtype: int64"
      ]
     },
     "execution_count": 16,
     "metadata": {},
     "output_type": "execute_result"
    }
   ],
   "source": [
    "train_data['battery-type'].value_counts()"
   ]
  },
  {
   "cell_type": "code",
   "execution_count": 17,
   "metadata": {},
   "outputs": [],
   "source": [
    "count=0\n",
    "for val in train_data.price:\n",
    "    if val=='?':\n",
    "        count+=1"
   ]
  },
  {
   "cell_type": "code",
   "execution_count": 18,
   "metadata": {},
   "outputs": [
    {
     "data": {
      "text/plain": [
       "3"
      ]
     },
     "execution_count": 18,
     "metadata": {},
     "output_type": "execute_result"
    }
   ],
   "source": [
    "count"
   ]
  },
  {
   "cell_type": "code",
   "execution_count": 19,
   "metadata": {},
   "outputs": [
    {
     "name": "stdout",
     "output_type": "stream",
     "text": [
      "0\n"
     ]
    }
   ],
   "source": [
    "count=0\n",
    "for val in train_data.fuel:\n",
    "    if val=='?':\n",
    "        count+=1\n",
    "\n",
    "print(count)        "
   ]
  },
  {
   "cell_type": "code",
   "execution_count": 20,
   "metadata": {},
   "outputs": [
    {
     "name": "stdout",
     "output_type": "stream",
     "text": [
      "35\n"
     ]
    }
   ],
   "source": [
    "count=0\n",
    "for val in train_data['normalized-losses']:\n",
    "    if val=='?':\n",
    "        count+=1\n",
    "\n",
    "print(count)        "
   ]
  },
  {
   "cell_type": "code",
   "execution_count": 21,
   "metadata": {},
   "outputs": [
    {
     "data": {
      "text/plain": [
       "'68'"
      ]
     },
     "execution_count": 21,
     "metadata": {},
     "output_type": "execute_result"
    }
   ],
   "source": [
    "train_data['horsepower'].value_counts().index[0]"
   ]
  },
  {
   "cell_type": "code",
   "execution_count": 22,
   "metadata": {},
   "outputs": [
    {
     "name": "stderr",
     "output_type": "stream",
     "text": [
      "/home/vs/anaconda3/envs/ml/lib/python3.6/site-packages/ipykernel_launcher.py:3: SettingWithCopyWarning: \n",
      "A value is trying to be set on a copy of a slice from a DataFrame\n",
      "\n",
      "See the caveats in the documentation: http://pandas.pydata.org/pandas-docs/stable/indexing.html#indexing-view-versus-copy\n",
      "  This is separate from the ipykernel package so we can avoid doing imports until\n"
     ]
    }
   ],
   "source": [
    "for i in range(train_data.shape[0]):\n",
    "    if train_data['horsepower'][i]=='?':\n",
    "        train_data['horsepower'][i]=train_data['horsepower'].value_counts().index[0]\n",
    "    "
   ]
  },
  {
   "cell_type": "code",
   "execution_count": 23,
   "metadata": {},
   "outputs": [
    {
     "data": {
      "text/plain": [
       "68     14\n",
       "70      9\n",
       "116     8\n",
       "69      7\n",
       "110     7\n",
       "88      6\n",
       "102     5\n",
       "84      5\n",
       "62      5\n",
       "95      5\n",
       "76      5\n",
       "114     5\n",
       "145     5\n",
       "101     5\n",
       "123     4\n",
       "86      4\n",
       "97      4\n",
       "92      4\n",
       "111     4\n",
       "182     3\n",
       "90      3\n",
       "85      3\n",
       "160     3\n",
       "121     3\n",
       "82      3\n",
       "73      2\n",
       "207     2\n",
       "152     2\n",
       "184     2\n",
       "155     2\n",
       "112     2\n",
       "156     2\n",
       "100     2\n",
       "161     2\n",
       "94      2\n",
       "176     2\n",
       "56      1\n",
       "175     1\n",
       "55      1\n",
       "142     1\n",
       "120     1\n",
       "154     1\n",
       "78      1\n",
       "134     1\n",
       "48      1\n",
       "200     1\n",
       "52      1\n",
       "72      1\n",
       "106     1\n",
       "58      1\n",
       "135     1\n",
       "288     1\n",
       "115     1\n",
       "140     1\n",
       "262     1\n",
       "Name: horsepower, dtype: int64"
      ]
     },
     "execution_count": 23,
     "metadata": {},
     "output_type": "execute_result"
    }
   ],
   "source": [
    "train_data['horsepower'].value_counts()"
   ]
  },
  {
   "cell_type": "markdown",
   "metadata": {},
   "source": [
    "# Handling Missing Values"
   ]
  },
  {
   "cell_type": "code",
   "execution_count": 24,
   "metadata": {},
   "outputs": [
    {
     "data": {
      "text/plain": [
       "Index(['id', 'fuel', 'ABS-compatibility', 'parking-sensor', 'symboling',\n",
       "       'normalized-losses', 'num-of-doors', 'body-style', 'manufacturer',\n",
       "       'condition', 'wheel-base', 'length', 'width', 'height', 'car-weight',\n",
       "       'engine-type', 'num-of-persons', 'engine-size', 'battery-type', 'bore',\n",
       "       'stroke', 'compression-ratio', 'horsepower', 'peak-rpm', 'city-mpg',\n",
       "       'highway-mpg', 'price'],\n",
       "      dtype='object')"
      ]
     },
     "execution_count": 24,
     "metadata": {},
     "output_type": "execute_result"
    }
   ],
   "source": [
    "train_data.columns"
   ]
  },
  {
   "cell_type": "code",
   "execution_count": 25,
   "metadata": {},
   "outputs": [
    {
     "data": {
      "text/plain": [
       "(167, 27)"
      ]
     },
     "execution_count": 25,
     "metadata": {},
     "output_type": "execute_result"
    }
   ],
   "source": [
    "ide=[]\n",
    "for i in range(train_data.shape[0]):\n",
    "    if train_data['price'][i]=='?':\n",
    "        ide.append(i)\n",
    "                \n",
    "train_data=train_data.drop(ide,axis=0)\n",
    "train_data.reset_index(inplace=True,drop=True)\n",
    "\n",
    "train_data.shape"
   ]
  },
  {
   "cell_type": "code",
   "execution_count": 26,
   "metadata": {},
   "outputs": [
    {
     "name": "stderr",
     "output_type": "stream",
     "text": [
      "/home/vs/anaconda3/envs/ml/lib/python3.6/site-packages/ipykernel_launcher.py:7: SettingWithCopyWarning: \n",
      "A value is trying to be set on a copy of a slice from a DataFrame\n",
      "\n",
      "See the caveats in the documentation: http://pandas.pydata.org/pandas-docs/stable/indexing.html#indexing-view-versus-copy\n",
      "  import sys\n"
     ]
    }
   ],
   "source": [
    "for col in train_data.columns:\n",
    "    ide=[]\n",
    "    for i in range(train_data.shape[0]):\n",
    "        if train_data[col][i]=='?':\n",
    "            ide.append(i)\n",
    "    for i in ide:\n",
    "        train_data[col][i]=np.nan"
   ]
  },
  {
   "cell_type": "code",
   "execution_count": 27,
   "metadata": {},
   "outputs": [
    {
     "data": {
      "text/plain": [
       "normalized-losses    32\n",
       "stroke                3\n",
       "bore                  3\n",
       "peak-rpm              1\n",
       "num-of-doors          1\n",
       "price                 0\n",
       "length                0\n",
       "fuel                  0\n",
       "ABS-compatibility     0\n",
       "parking-sensor        0\n",
       "symboling             0\n",
       "body-style            0\n",
       "manufacturer          0\n",
       "condition             0\n",
       "wheel-base            0\n",
       "height                0\n",
       "width                 0\n",
       "highway-mpg           0\n",
       "car-weight            0\n",
       "engine-type           0\n",
       "num-of-persons        0\n",
       "engine-size           0\n",
       "battery-type          0\n",
       "compression-ratio     0\n",
       "horsepower            0\n",
       "city-mpg              0\n",
       "id                    0\n",
       "dtype: int64"
      ]
     },
     "execution_count": 27,
     "metadata": {},
     "output_type": "execute_result"
    }
   ],
   "source": [
    "train_data.isnull().sum().sort_values(ascending=False)"
   ]
  },
  {
   "cell_type": "code",
   "execution_count": 28,
   "metadata": {},
   "outputs": [],
   "source": [
    "train_data=train_data.drop('normalized-losses',axis=1)\n"
   ]
  },
  {
   "cell_type": "code",
   "execution_count": 29,
   "metadata": {},
   "outputs": [
    {
     "data": {
      "text/plain": [
       "(167, 26)"
      ]
     },
     "execution_count": 29,
     "metadata": {},
     "output_type": "execute_result"
    }
   ],
   "source": [
    "train_data.shape"
   ]
  },
  {
   "cell_type": "code",
   "execution_count": 30,
   "metadata": {},
   "outputs": [
    {
     "data": {
      "text/html": [
       "<div>\n",
       "<style scoped>\n",
       "    .dataframe tbody tr th:only-of-type {\n",
       "        vertical-align: middle;\n",
       "    }\n",
       "\n",
       "    .dataframe tbody tr th {\n",
       "        vertical-align: top;\n",
       "    }\n",
       "\n",
       "    .dataframe thead th {\n",
       "        text-align: right;\n",
       "    }\n",
       "</style>\n",
       "<table border=\"1\" class=\"dataframe\">\n",
       "  <thead>\n",
       "    <tr style=\"text-align: right;\">\n",
       "      <th></th>\n",
       "      <th>id</th>\n",
       "      <th>fuel</th>\n",
       "      <th>ABS-compatibility</th>\n",
       "      <th>parking-sensor</th>\n",
       "      <th>symboling</th>\n",
       "      <th>num-of-doors</th>\n",
       "      <th>body-style</th>\n",
       "      <th>manufacturer</th>\n",
       "      <th>condition</th>\n",
       "      <th>wheel-base</th>\n",
       "      <th>...</th>\n",
       "      <th>engine-size</th>\n",
       "      <th>battery-type</th>\n",
       "      <th>bore</th>\n",
       "      <th>stroke</th>\n",
       "      <th>compression-ratio</th>\n",
       "      <th>horsepower</th>\n",
       "      <th>peak-rpm</th>\n",
       "      <th>city-mpg</th>\n",
       "      <th>highway-mpg</th>\n",
       "      <th>price</th>\n",
       "    </tr>\n",
       "  </thead>\n",
       "  <tbody>\n",
       "    <tr>\n",
       "      <th>0</th>\n",
       "      <td>0</td>\n",
       "      <td>petrol</td>\n",
       "      <td>ABS not supported</td>\n",
       "      <td>not installed</td>\n",
       "      <td>3</td>\n",
       "      <td>two</td>\n",
       "      <td>convertible</td>\n",
       "      <td>mercedes-benz</td>\n",
       "      <td>new</td>\n",
       "      <td>96.6</td>\n",
       "      <td>...</td>\n",
       "      <td>234</td>\n",
       "      <td>sli</td>\n",
       "      <td>3.46</td>\n",
       "      <td>3.1</td>\n",
       "      <td>8.3</td>\n",
       "      <td>155</td>\n",
       "      <td>4750</td>\n",
       "      <td>16</td>\n",
       "      <td>18</td>\n",
       "      <td>35056</td>\n",
       "    </tr>\n",
       "    <tr>\n",
       "      <th>1</th>\n",
       "      <td>1</td>\n",
       "      <td>petrol</td>\n",
       "      <td>ABS not supported</td>\n",
       "      <td>installed</td>\n",
       "      <td>-1</td>\n",
       "      <td>four</td>\n",
       "      <td>wagon</td>\n",
       "      <td>dodge</td>\n",
       "      <td>new</td>\n",
       "      <td>103.3</td>\n",
       "      <td>...</td>\n",
       "      <td>122</td>\n",
       "      <td>li-ion</td>\n",
       "      <td>3.34</td>\n",
       "      <td>3.46</td>\n",
       "      <td>8.5</td>\n",
       "      <td>88</td>\n",
       "      <td>5000</td>\n",
       "      <td>24</td>\n",
       "      <td>30</td>\n",
       "      <td>8921</td>\n",
       "    </tr>\n",
       "    <tr>\n",
       "      <th>2</th>\n",
       "      <td>2</td>\n",
       "      <td>petrol</td>\n",
       "      <td>ABS supported</td>\n",
       "      <td>not installed</td>\n",
       "      <td>-1</td>\n",
       "      <td>four</td>\n",
       "      <td>sedan</td>\n",
       "      <td>volvo</td>\n",
       "      <td>new</td>\n",
       "      <td>109.1</td>\n",
       "      <td>...</td>\n",
       "      <td>141</td>\n",
       "      <td>sli</td>\n",
       "      <td>3.78</td>\n",
       "      <td>3.15</td>\n",
       "      <td>9.5</td>\n",
       "      <td>114</td>\n",
       "      <td>5400</td>\n",
       "      <td>19</td>\n",
       "      <td>25</td>\n",
       "      <td>22625</td>\n",
       "    </tr>\n",
       "    <tr>\n",
       "      <th>3</th>\n",
       "      <td>3</td>\n",
       "      <td>petrol</td>\n",
       "      <td>ABS supported</td>\n",
       "      <td>installed</td>\n",
       "      <td>1</td>\n",
       "      <td>four</td>\n",
       "      <td>sedan</td>\n",
       "      <td>audi</td>\n",
       "      <td>new</td>\n",
       "      <td>105.8</td>\n",
       "      <td>...</td>\n",
       "      <td>131</td>\n",
       "      <td>sli</td>\n",
       "      <td>3.13</td>\n",
       "      <td>3.4</td>\n",
       "      <td>8.3</td>\n",
       "      <td>140</td>\n",
       "      <td>5500</td>\n",
       "      <td>17</td>\n",
       "      <td>20</td>\n",
       "      <td>23875</td>\n",
       "    </tr>\n",
       "    <tr>\n",
       "      <th>4</th>\n",
       "      <td>4</td>\n",
       "      <td>petrol</td>\n",
       "      <td>ABS not supported</td>\n",
       "      <td>installed</td>\n",
       "      <td>0</td>\n",
       "      <td>four</td>\n",
       "      <td>sedan</td>\n",
       "      <td>nissan</td>\n",
       "      <td>new</td>\n",
       "      <td>100.4</td>\n",
       "      <td>...</td>\n",
       "      <td>181</td>\n",
       "      <td>sli</td>\n",
       "      <td>3.43</td>\n",
       "      <td>3.27</td>\n",
       "      <td>9.0</td>\n",
       "      <td>152</td>\n",
       "      <td>5200</td>\n",
       "      <td>19</td>\n",
       "      <td>25</td>\n",
       "      <td>13499</td>\n",
       "    </tr>\n",
       "  </tbody>\n",
       "</table>\n",
       "<p>5 rows × 26 columns</p>\n",
       "</div>"
      ],
      "text/plain": [
       "   id    fuel  ABS-compatibility parking-sensor  symboling num-of-doors  \\\n",
       "0   0  petrol  ABS not supported  not installed          3          two   \n",
       "1   1  petrol  ABS not supported      installed         -1         four   \n",
       "2   2  petrol      ABS supported  not installed         -1         four   \n",
       "3   3  petrol      ABS supported      installed          1         four   \n",
       "4   4  petrol  ABS not supported      installed          0         four   \n",
       "\n",
       "    body-style   manufacturer condition  wheel-base  ...  engine-size  \\\n",
       "0  convertible  mercedes-benz       new        96.6  ...          234   \n",
       "1        wagon          dodge       new       103.3  ...          122   \n",
       "2        sedan          volvo       new       109.1  ...          141   \n",
       "3        sedan           audi       new       105.8  ...          131   \n",
       "4        sedan         nissan       new       100.4  ...          181   \n",
       "\n",
       "   battery-type  bore  stroke compression-ratio horsepower  peak-rpm city-mpg  \\\n",
       "0           sli  3.46     3.1               8.3        155      4750       16   \n",
       "1        li-ion  3.34    3.46               8.5         88      5000       24   \n",
       "2           sli  3.78    3.15               9.5        114      5400       19   \n",
       "3           sli  3.13     3.4               8.3        140      5500       17   \n",
       "4           sli  3.43    3.27               9.0        152      5200       19   \n",
       "\n",
       "  highway-mpg  price  \n",
       "0          18  35056  \n",
       "1          30   8921  \n",
       "2          25  22625  \n",
       "3          20  23875  \n",
       "4          25  13499  \n",
       "\n",
       "[5 rows x 26 columns]"
      ]
     },
     "execution_count": 30,
     "metadata": {},
     "output_type": "execute_result"
    }
   ],
   "source": [
    "train_data.head()"
   ]
  },
  {
   "cell_type": "code",
   "execution_count": null,
   "metadata": {},
   "outputs": [],
   "source": []
  },
  {
   "cell_type": "code",
   "execution_count": 31,
   "metadata": {
    "scrolled": true
   },
   "outputs": [
    {
     "data": {
      "text/plain": [
       "stroke               3\n",
       "bore                 3\n",
       "peak-rpm             1\n",
       "num-of-doors         1\n",
       "price                0\n",
       "length               0\n",
       "fuel                 0\n",
       "ABS-compatibility    0\n",
       "parking-sensor       0\n",
       "symboling            0\n",
       "body-style           0\n",
       "manufacturer         0\n",
       "condition            0\n",
       "wheel-base           0\n",
       "height               0\n",
       "width                0\n",
       "highway-mpg          0\n",
       "car-weight           0\n",
       "engine-type          0\n",
       "num-of-persons       0\n",
       "engine-size          0\n",
       "battery-type         0\n",
       "compression-ratio    0\n",
       "horsepower           0\n",
       "city-mpg             0\n",
       "id                   0\n",
       "dtype: int64"
      ]
     },
     "execution_count": 31,
     "metadata": {},
     "output_type": "execute_result"
    }
   ],
   "source": [
    "train_data.isnull().sum().sort_values(ascending=False)"
   ]
  },
  {
   "cell_type": "markdown",
   "metadata": {},
   "source": [
    "since price is label so we will drop that rows also"
   ]
  },
  {
   "cell_type": "markdown",
   "metadata": {},
   "source": [
    "stroke, bore, peak-rpm, num-of-doors"
   ]
  },
  {
   "cell_type": "code",
   "execution_count": 32,
   "metadata": {},
   "outputs": [
    {
     "data": {
      "text/plain": [
       "3"
      ]
     },
     "execution_count": 32,
     "metadata": {},
     "output_type": "execute_result"
    }
   ],
   "source": [
    "train_data['stroke'].isnull().sum()"
   ]
  },
  {
   "cell_type": "code",
   "execution_count": 33,
   "metadata": {},
   "outputs": [
    {
     "data": {
      "text/plain": [
       "0       3.1\n",
       "1      3.46\n",
       "2      3.15\n",
       "3       3.4\n",
       "4      3.27\n",
       "5      3.29\n",
       "6      3.46\n",
       "7      3.54\n",
       "8      3.54\n",
       "9       3.4\n",
       "10     3.23\n",
       "11     3.64\n",
       "12     3.39\n",
       "13      2.8\n",
       "14     3.21\n",
       "15     3.39\n",
       "16     3.03\n",
       "17     3.35\n",
       "18     2.64\n",
       "19     3.03\n",
       "20     3.39\n",
       "21      3.4\n",
       "22     3.47\n",
       "23     2.64\n",
       "24     3.52\n",
       "25     3.58\n",
       "26     3.86\n",
       "27     3.39\n",
       "28      3.4\n",
       "29      NaN\n",
       "       ... \n",
       "137    3.03\n",
       "138    2.64\n",
       "139    2.36\n",
       "140    3.41\n",
       "141    3.15\n",
       "142    3.39\n",
       "143    3.29\n",
       "144    3.52\n",
       "145    2.87\n",
       "146    2.19\n",
       "147     2.9\n",
       "148     2.8\n",
       "149     3.9\n",
       "150    3.41\n",
       "151    3.23\n",
       "152    3.46\n",
       "153    3.23\n",
       "154     3.4\n",
       "155    3.35\n",
       "156    2.64\n",
       "157    3.19\n",
       "158    3.58\n",
       "159    3.46\n",
       "160     3.4\n",
       "161    2.76\n",
       "162    3.07\n",
       "163    3.29\n",
       "164    3.58\n",
       "165    3.27\n",
       "166    3.03\n",
       "Name: stroke, Length: 167, dtype: object"
      ]
     },
     "execution_count": 33,
     "metadata": {},
     "output_type": "execute_result"
    }
   ],
   "source": [
    "train_data['stroke']"
   ]
  },
  {
   "cell_type": "code",
   "execution_count": 34,
   "metadata": {},
   "outputs": [
    {
     "data": {
      "text/plain": [
       "3.35"
      ]
     },
     "execution_count": 34,
     "metadata": {},
     "output_type": "execute_result"
    }
   ],
   "source": [
    "train_data['stroke'].median()"
   ]
  },
  {
   "cell_type": "code",
   "execution_count": 35,
   "metadata": {},
   "outputs": [],
   "source": [
    "train_data['stroke']=train_data['stroke'].fillna(train_data['stroke'].median())"
   ]
  },
  {
   "cell_type": "code",
   "execution_count": 36,
   "metadata": {},
   "outputs": [
    {
     "data": {
      "text/plain": [
       "0"
      ]
     },
     "execution_count": 36,
     "metadata": {},
     "output_type": "execute_result"
    }
   ],
   "source": [
    "train_data['stroke'].isnull().sum()"
   ]
  },
  {
   "cell_type": "code",
   "execution_count": 37,
   "metadata": {},
   "outputs": [
    {
     "data": {
      "text/plain": [
       "3"
      ]
     },
     "execution_count": 37,
     "metadata": {},
     "output_type": "execute_result"
    }
   ],
   "source": [
    "train_data['bore'].isnull().sum()"
   ]
  },
  {
   "cell_type": "code",
   "execution_count": 38,
   "metadata": {},
   "outputs": [
    {
     "data": {
      "text/plain": [
       "dtype('O')"
      ]
     },
     "execution_count": 38,
     "metadata": {},
     "output_type": "execute_result"
    }
   ],
   "source": [
    "train_data['bore'].dtype"
   ]
  },
  {
   "cell_type": "code",
   "execution_count": 39,
   "metadata": {},
   "outputs": [
    {
     "data": {
      "text/plain": [
       "3.19    18\n",
       "3.62    17\n",
       "3.15    12\n",
       "2.97     9\n",
       "3.31     8\n",
       "3.03     8\n",
       "3.43     7\n",
       "3.46     7\n",
       "3.58     6\n",
       "3.78     6\n",
       "3.27     6\n",
       "2.91     6\n",
       "3.54     5\n",
       "3.05     5\n",
       "3.39     5\n",
       "3.35     4\n",
       "3.7      3\n",
       "3.17     3\n",
       "3.59     3\n",
       "3.01     3\n",
       "3.8      2\n",
       "3.63     2\n",
       "3.5      2\n",
       "3.24     2\n",
       "3.47     2\n",
       "3.33     2\n",
       "3.74     2\n",
       "2.92     1\n",
       "3.6      1\n",
       "2.54     1\n",
       "3.13     1\n",
       "3.76     1\n",
       "2.99     1\n",
       "3.61     1\n",
       "3.34     1\n",
       "2.68     1\n",
       "Name: bore, dtype: int64"
      ]
     },
     "execution_count": 39,
     "metadata": {},
     "output_type": "execute_result"
    }
   ],
   "source": [
    "train_data['bore'].value_counts()"
   ]
  },
  {
   "cell_type": "code",
   "execution_count": 40,
   "metadata": {},
   "outputs": [],
   "source": [
    "train_data['bore']=train_data['bore'].fillna(train_data['bore'].median())"
   ]
  },
  {
   "cell_type": "code",
   "execution_count": 41,
   "metadata": {},
   "outputs": [
    {
     "data": {
      "text/plain": [
       "0"
      ]
     },
     "execution_count": 41,
     "metadata": {},
     "output_type": "execute_result"
    }
   ],
   "source": [
    "train_data['bore'].isnull().sum()"
   ]
  },
  {
   "cell_type": "code",
   "execution_count": 42,
   "metadata": {},
   "outputs": [
    {
     "data": {
      "text/plain": [
       "dtype('O')"
      ]
     },
     "execution_count": 42,
     "metadata": {},
     "output_type": "execute_result"
    }
   ],
   "source": [
    "train_data['num-of-doors'].dtype"
   ]
  },
  {
   "cell_type": "code",
   "execution_count": 43,
   "metadata": {},
   "outputs": [
    {
     "data": {
      "text/plain": [
       "four    92\n",
       "two     74\n",
       "Name: num-of-doors, dtype: int64"
      ]
     },
     "execution_count": 43,
     "metadata": {},
     "output_type": "execute_result"
    }
   ],
   "source": [
    "train_data['num-of-doors'].value_counts()"
   ]
  },
  {
   "cell_type": "code",
   "execution_count": 44,
   "metadata": {},
   "outputs": [],
   "source": [
    "train_data['num-of-doors']=train_data['num-of-doors'].fillna(train_data['num-of-doors'].value_counts().index[0])"
   ]
  },
  {
   "cell_type": "code",
   "execution_count": 45,
   "metadata": {},
   "outputs": [
    {
     "data": {
      "text/plain": [
       "0"
      ]
     },
     "execution_count": 45,
     "metadata": {},
     "output_type": "execute_result"
    }
   ],
   "source": [
    "train_data['num-of-doors'].isnull().sum()"
   ]
  },
  {
   "cell_type": "code",
   "execution_count": 46,
   "metadata": {},
   "outputs": [
    {
     "data": {
      "text/plain": [
       "dtype('O')"
      ]
     },
     "execution_count": 46,
     "metadata": {},
     "output_type": "execute_result"
    }
   ],
   "source": [
    "train_data['peak-rpm'].dtype"
   ]
  },
  {
   "cell_type": "code",
   "execution_count": 47,
   "metadata": {},
   "outputs": [
    {
     "data": {
      "text/plain": [
       "4800    30\n",
       "5500    29\n",
       "5000    24\n",
       "5200    19\n",
       "5400     9\n",
       "6000     8\n",
       "5800     7\n",
       "5250     7\n",
       "4200     5\n",
       "4500     5\n",
       "4350     4\n",
       "4750     4\n",
       "4250     3\n",
       "4150     3\n",
       "4400     2\n",
       "6600     2\n",
       "5900     2\n",
       "5600     1\n",
       "4900     1\n",
       "5100     1\n",
       "Name: peak-rpm, dtype: int64"
      ]
     },
     "execution_count": 47,
     "metadata": {},
     "output_type": "execute_result"
    }
   ],
   "source": [
    "train_data['peak-rpm'].value_counts()"
   ]
  },
  {
   "cell_type": "code",
   "execution_count": 48,
   "metadata": {},
   "outputs": [],
   "source": [
    "train_data['peak-rpm']=train_data['peak-rpm'].fillna(train_data['peak-rpm'].median())"
   ]
  },
  {
   "cell_type": "code",
   "execution_count": 49,
   "metadata": {},
   "outputs": [
    {
     "data": {
      "text/plain": [
       "0"
      ]
     },
     "execution_count": 49,
     "metadata": {},
     "output_type": "execute_result"
    }
   ],
   "source": [
    "train_data['peak-rpm'].isnull().sum()"
   ]
  },
  {
   "cell_type": "code",
   "execution_count": 50,
   "metadata": {},
   "outputs": [
    {
     "data": {
      "text/plain": [
       "id                   0\n",
       "fuel                 0\n",
       "ABS-compatibility    0\n",
       "parking-sensor       0\n",
       "symboling            0\n",
       "num-of-doors         0\n",
       "body-style           0\n",
       "manufacturer         0\n",
       "condition            0\n",
       "wheel-base           0\n",
       "length               0\n",
       "width                0\n",
       "height               0\n",
       "car-weight           0\n",
       "engine-type          0\n",
       "num-of-persons       0\n",
       "engine-size          0\n",
       "battery-type         0\n",
       "bore                 0\n",
       "stroke               0\n",
       "compression-ratio    0\n",
       "horsepower           0\n",
       "peak-rpm             0\n",
       "city-mpg             0\n",
       "highway-mpg          0\n",
       "price                0\n",
       "dtype: int64"
      ]
     },
     "execution_count": 50,
     "metadata": {},
     "output_type": "execute_result"
    }
   ],
   "source": [
    "train_data.isnull().sum()"
   ]
  },
  {
   "cell_type": "markdown",
   "metadata": {},
   "source": [
    "So there is no missing values in the data"
   ]
  },
  {
   "cell_type": "code",
   "execution_count": 51,
   "metadata": {},
   "outputs": [],
   "source": [
    "label=train_data['price']\n",
    "data=train_data.drop('price',axis=1)"
   ]
  },
  {
   "cell_type": "code",
   "execution_count": 52,
   "metadata": {},
   "outputs": [],
   "source": [
    "from sklearn.preprocessing import LabelEncoder"
   ]
  },
  {
   "cell_type": "code",
   "execution_count": 53,
   "metadata": {},
   "outputs": [],
   "source": [
    "le=LabelEncoder()\n",
    "for col in data.columns:\n",
    "    if data[col].dtype=='object':\n",
    "        le.fit(data[col].astype(str))\n",
    "        data[col]=le.transform(data[col].astype(str))\n",
    "            "
   ]
  },
  {
   "cell_type": "code",
   "execution_count": 54,
   "metadata": {},
   "outputs": [
    {
     "data": {
      "text/html": [
       "<div>\n",
       "<style scoped>\n",
       "    .dataframe tbody tr th:only-of-type {\n",
       "        vertical-align: middle;\n",
       "    }\n",
       "\n",
       "    .dataframe tbody tr th {\n",
       "        vertical-align: top;\n",
       "    }\n",
       "\n",
       "    .dataframe thead th {\n",
       "        text-align: right;\n",
       "    }\n",
       "</style>\n",
       "<table border=\"1\" class=\"dataframe\">\n",
       "  <thead>\n",
       "    <tr style=\"text-align: right;\">\n",
       "      <th></th>\n",
       "      <th>id</th>\n",
       "      <th>fuel</th>\n",
       "      <th>ABS-compatibility</th>\n",
       "      <th>parking-sensor</th>\n",
       "      <th>symboling</th>\n",
       "      <th>num-of-doors</th>\n",
       "      <th>body-style</th>\n",
       "      <th>manufacturer</th>\n",
       "      <th>condition</th>\n",
       "      <th>wheel-base</th>\n",
       "      <th>...</th>\n",
       "      <th>num-of-persons</th>\n",
       "      <th>engine-size</th>\n",
       "      <th>battery-type</th>\n",
       "      <th>bore</th>\n",
       "      <th>stroke</th>\n",
       "      <th>compression-ratio</th>\n",
       "      <th>horsepower</th>\n",
       "      <th>peak-rpm</th>\n",
       "      <th>city-mpg</th>\n",
       "      <th>highway-mpg</th>\n",
       "    </tr>\n",
       "  </thead>\n",
       "  <tbody>\n",
       "    <tr>\n",
       "      <th>0</th>\n",
       "      <td>0</td>\n",
       "      <td>1</td>\n",
       "      <td>0</td>\n",
       "      <td>2</td>\n",
       "      <td>3</td>\n",
       "      <td>1</td>\n",
       "      <td>0</td>\n",
       "      <td>9</td>\n",
       "      <td>0</td>\n",
       "      <td>96.6</td>\n",
       "      <td>...</td>\n",
       "      <td>0</td>\n",
       "      <td>234</td>\n",
       "      <td>4</td>\n",
       "      <td>21</td>\n",
       "      <td>12</td>\n",
       "      <td>8.3</td>\n",
       "      <td>20</td>\n",
       "      <td>6</td>\n",
       "      <td>16</td>\n",
       "      <td>18</td>\n",
       "    </tr>\n",
       "    <tr>\n",
       "      <th>1</th>\n",
       "      <td>1</td>\n",
       "      <td>1</td>\n",
       "      <td>0</td>\n",
       "      <td>0</td>\n",
       "      <td>-1</td>\n",
       "      <td>0</td>\n",
       "      <td>4</td>\n",
       "      <td>4</td>\n",
       "      <td>0</td>\n",
       "      <td>103.3</td>\n",
       "      <td>...</td>\n",
       "      <td>2</td>\n",
       "      <td>122</td>\n",
       "      <td>2</td>\n",
       "      <td>17</td>\n",
       "      <td>26</td>\n",
       "      <td>8.5</td>\n",
       "      <td>48</td>\n",
       "      <td>9</td>\n",
       "      <td>24</td>\n",
       "      <td>30</td>\n",
       "    </tr>\n",
       "    <tr>\n",
       "      <th>2</th>\n",
       "      <td>2</td>\n",
       "      <td>1</td>\n",
       "      <td>1</td>\n",
       "      <td>2</td>\n",
       "      <td>-1</td>\n",
       "      <td>0</td>\n",
       "      <td>3</td>\n",
       "      <td>21</td>\n",
       "      <td>0</td>\n",
       "      <td>109.1</td>\n",
       "      <td>...</td>\n",
       "      <td>2</td>\n",
       "      <td>141</td>\n",
       "      <td>4</td>\n",
       "      <td>34</td>\n",
       "      <td>15</td>\n",
       "      <td>9.5</td>\n",
       "      <td>7</td>\n",
       "      <td>14</td>\n",
       "      <td>19</td>\n",
       "      <td>25</td>\n",
       "    </tr>\n",
       "    <tr>\n",
       "      <th>3</th>\n",
       "      <td>3</td>\n",
       "      <td>1</td>\n",
       "      <td>1</td>\n",
       "      <td>0</td>\n",
       "      <td>1</td>\n",
       "      <td>0</td>\n",
       "      <td>3</td>\n",
       "      <td>1</td>\n",
       "      <td>0</td>\n",
       "      <td>105.8</td>\n",
       "      <td>...</td>\n",
       "      <td>1</td>\n",
       "      <td>131</td>\n",
       "      <td>4</td>\n",
       "      <td>9</td>\n",
       "      <td>24</td>\n",
       "      <td>8.3</td>\n",
       "      <td>15</td>\n",
       "      <td>15</td>\n",
       "      <td>17</td>\n",
       "      <td>20</td>\n",
       "    </tr>\n",
       "    <tr>\n",
       "      <th>4</th>\n",
       "      <td>4</td>\n",
       "      <td>1</td>\n",
       "      <td>0</td>\n",
       "      <td>0</td>\n",
       "      <td>0</td>\n",
       "      <td>0</td>\n",
       "      <td>3</td>\n",
       "      <td>12</td>\n",
       "      <td>0</td>\n",
       "      <td>100.4</td>\n",
       "      <td>...</td>\n",
       "      <td>3</td>\n",
       "      <td>181</td>\n",
       "      <td>4</td>\n",
       "      <td>20</td>\n",
       "      <td>20</td>\n",
       "      <td>9.0</td>\n",
       "      <td>18</td>\n",
       "      <td>11</td>\n",
       "      <td>19</td>\n",
       "      <td>25</td>\n",
       "    </tr>\n",
       "  </tbody>\n",
       "</table>\n",
       "<p>5 rows × 25 columns</p>\n",
       "</div>"
      ],
      "text/plain": [
       "   id  fuel  ABS-compatibility  parking-sensor  symboling  num-of-doors  \\\n",
       "0   0     1                  0               2          3             1   \n",
       "1   1     1                  0               0         -1             0   \n",
       "2   2     1                  1               2         -1             0   \n",
       "3   3     1                  1               0          1             0   \n",
       "4   4     1                  0               0          0             0   \n",
       "\n",
       "   body-style  manufacturer  condition  wheel-base  ...  num-of-persons  \\\n",
       "0           0             9          0        96.6  ...               0   \n",
       "1           4             4          0       103.3  ...               2   \n",
       "2           3            21          0       109.1  ...               2   \n",
       "3           3             1          0       105.8  ...               1   \n",
       "4           3            12          0       100.4  ...               3   \n",
       "\n",
       "   engine-size  battery-type  bore  stroke  compression-ratio  horsepower  \\\n",
       "0          234             4    21      12                8.3          20   \n",
       "1          122             2    17      26                8.5          48   \n",
       "2          141             4    34      15                9.5           7   \n",
       "3          131             4     9      24                8.3          15   \n",
       "4          181             4    20      20                9.0          18   \n",
       "\n",
       "   peak-rpm  city-mpg  highway-mpg  \n",
       "0         6        16           18  \n",
       "1         9        24           30  \n",
       "2        14        19           25  \n",
       "3        15        17           20  \n",
       "4        11        19           25  \n",
       "\n",
       "[5 rows x 25 columns]"
      ]
     },
     "execution_count": 54,
     "metadata": {},
     "output_type": "execute_result"
    }
   ],
   "source": [
    "data.head()"
   ]
  },
  {
   "cell_type": "code",
   "execution_count": 55,
   "metadata": {},
   "outputs": [
    {
     "data": {
      "text/plain": [
       "0    35056\n",
       "1     8921\n",
       "2    22625\n",
       "3    23875\n",
       "4    13499\n",
       "Name: price, dtype: object"
      ]
     },
     "execution_count": 55,
     "metadata": {},
     "output_type": "execute_result"
    }
   ],
   "source": [
    "label.head()"
   ]
  },
  {
   "cell_type": "code",
   "execution_count": 56,
   "metadata": {},
   "outputs": [],
   "source": [
    "x_train=data[:-20]\n",
    "x_val=data[-20:]\n",
    "y_train=label[:-20]\n",
    "y_val=label[-20:]\n"
   ]
  },
  {
   "cell_type": "code",
   "execution_count": 57,
   "metadata": {},
   "outputs": [
    {
     "name": "stdout",
     "output_type": "stream",
     "text": [
      "0      35056\n",
      "1       8921\n",
      "2      22625\n",
      "3      23875\n",
      "4      13499\n",
      "5       7499\n",
      "6       9279\n",
      "7      10898\n",
      "8      11248\n",
      "9      18920\n",
      "10     11048\n",
      "11     28248\n",
      "12      8495\n",
      "13     16430\n",
      "14     18150\n",
      "15      7957\n",
      "16      5348\n",
      "17     15998\n",
      "18      9960\n",
      "19      8238\n",
      "20      7957\n",
      "21     17450\n",
      "22      9549\n",
      "23     11259\n",
      "24     16900\n",
      "25      7895\n",
      "26     14489\n",
      "27      8845\n",
      "28     22470\n",
      "29     15645\n",
      "       ...  \n",
      "117     6849\n",
      "118    12945\n",
      "119    10245\n",
      "120     7775\n",
      "121    19699\n",
      "122     5572\n",
      "123     6855\n",
      "124    15750\n",
      "125     7299\n",
      "126    45400\n",
      "127     7603\n",
      "128    34184\n",
      "129     7788\n",
      "130     7099\n",
      "131    10945\n",
      "132     6377\n",
      "133    10698\n",
      "134    11900\n",
      "135     6295\n",
      "136     9980\n",
      "137     7898\n",
      "138    11694\n",
      "139     5118\n",
      "140     7295\n",
      "141    16515\n",
      "142    30760\n",
      "143     5499\n",
      "144    17075\n",
      "145    21485\n",
      "146    16695\n",
      "Name: price, Length: 147, dtype: object\n"
     ]
    }
   ],
   "source": [
    "print(y_train)"
   ]
  },
  {
   "cell_type": "code",
   "execution_count": 58,
   "metadata": {},
   "outputs": [
    {
     "name": "stdout",
     "output_type": "stream",
     "text": [
      "147    37028\n",
      "148    16925\n",
      "149     9295\n",
      "150     7295\n",
      "151     6669\n",
      "152     8189\n",
      "153     7609\n",
      "154     7775\n",
      "155    40960\n",
      "156     7463\n",
      "157    20970\n",
      "158    10345\n",
      "159     6989\n",
      "160     9995\n",
      "161    36000\n",
      "162    11850\n",
      "163     7349\n",
      "164     8845\n",
      "165    13499\n",
      "166     9258\n",
      "Name: price, dtype: object\n"
     ]
    }
   ],
   "source": [
    "print(y_val)"
   ]
  },
  {
   "cell_type": "code",
   "execution_count": 59,
   "metadata": {},
   "outputs": [],
   "source": [
    "from sklearn.linear_model import LinearRegression"
   ]
  },
  {
   "cell_type": "code",
   "execution_count": 60,
   "metadata": {},
   "outputs": [
    {
     "data": {
      "text/plain": [
       "LinearRegression(copy_X=True, fit_intercept=True, n_jobs=None,\n",
       "         normalize=False)"
      ]
     },
     "execution_count": 60,
     "metadata": {},
     "output_type": "execute_result"
    }
   ],
   "source": [
    "lr=LinearRegression()\n",
    "lr.fit(x_train,y_train)"
   ]
  },
  {
   "cell_type": "code",
   "execution_count": 61,
   "metadata": {},
   "outputs": [],
   "source": [
    "y_pred=lr.predict(x_val)"
   ]
  },
  {
   "cell_type": "code",
   "execution_count": 62,
   "metadata": {},
   "outputs": [
    {
     "data": {
      "text/plain": [
       "array([33158.428186  , 15497.18092574,  9163.42468729,  8450.13064402,\n",
       "        6038.98806647,  8231.25554715,  6284.62820754,  8006.72391533,\n",
       "       43002.79279313,  7092.84471331, 18509.81443885,  8512.09410608,\n",
       "        8153.51064117,  8929.89007208, 46577.12689326, 13698.77034446,\n",
       "        4860.9096268 , 10088.85359294, 22165.50189968,  5089.90105787])"
      ]
     },
     "execution_count": 62,
     "metadata": {},
     "output_type": "execute_result"
    }
   ],
   "source": [
    "y_pred"
   ]
  },
  {
   "cell_type": "code",
   "execution_count": 63,
   "metadata": {},
   "outputs": [
    {
     "data": {
      "text/plain": [
       "147    37028\n",
       "148    16925\n",
       "149     9295\n",
       "150     7295\n",
       "151     6669\n",
       "152     8189\n",
       "153     7609\n",
       "154     7775\n",
       "155    40960\n",
       "156     7463\n",
       "157    20970\n",
       "158    10345\n",
       "159     6989\n",
       "160     9995\n",
       "161    36000\n",
       "162    11850\n",
       "163     7349\n",
       "164     8845\n",
       "165    13499\n",
       "166     9258\n",
       "Name: price, dtype: object"
      ]
     },
     "execution_count": 63,
     "metadata": {},
     "output_type": "execute_result"
    }
   ],
   "source": [
    "y_val"
   ]
  },
  {
   "cell_type": "code",
   "execution_count": 70,
   "metadata": {},
   "outputs": [],
   "source": [
    "from sklearn.metrics import mean_squared_log_error"
   ]
  },
  {
   "cell_type": "code",
   "execution_count": 71,
   "metadata": {},
   "outputs": [
    {
     "data": {
      "text/plain": [
       "0.05315896061379451"
      ]
     },
     "execution_count": 71,
     "metadata": {},
     "output_type": "execute_result"
    }
   ],
   "source": [
    "mean_squared_log_error(y_val, y_pred)"
   ]
  },
  {
   "cell_type": "code",
   "execution_count": null,
   "metadata": {},
   "outputs": [],
   "source": []
  }
 ],
 "metadata": {
  "kernelspec": {
   "display_name": "Python 3",
   "language": "python",
   "name": "python3"
  },
  "language_info": {
   "codemirror_mode": {
    "name": "ipython",
    "version": 3
   },
   "file_extension": ".py",
   "mimetype": "text/x-python",
   "name": "python",
   "nbconvert_exporter": "python",
   "pygments_lexer": "ipython3",
   "version": "3.6.8"
  }
 },
 "nbformat": 4,
 "nbformat_minor": 2
}
